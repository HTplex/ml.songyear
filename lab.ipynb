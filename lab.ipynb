{
 "cells": [
  {
   "cell_type": "markdown",
   "metadata": {},
   "source": [
    "# import files"
   ]
  },
  {
   "cell_type": "code",
   "execution_count": 2,
   "metadata": {},
   "outputs": [
    {
     "name": "stderr",
     "output_type": "stream",
     "text": [
      "Using TensorFlow backend.\n",
      "/usr/local/Cellar/python3/3.6.0/Frameworks/Python.framework/Versions/3.6/lib/python3.6/importlib/_bootstrap.py:205: RuntimeWarning: compiletime version 3.5 of module 'tensorflow.python.framework.fast_tensor_util' does not match runtime version 3.6\n",
      "  return f(*args, **kwds)\n"
     ]
    }
   ],
   "source": [
    "import keras\n",
    "from keras.models import Sequential\n",
    "from keras.layers import Dense, Dropout, Activation\n",
    "from keras.optimizers import SGD\n",
    "import scipy.io as spio\n",
    "import os\n",
    "import matplotlib.pyplot as plt\n",
    "import numpy as np"
   ]
  },
  {
   "cell_type": "code",
   "execution_count": 112,
   "metadata": {},
   "outputs": [],
   "source": [
    "train_x = spio.loadmat(\"MSdata.mat\")['trainx']\n",
    "test_x = spio.loadmat('MSdata.mat')['testx']\n",
    "train_y = spio.loadmat('MSdata.mat')['trainy']"
   ]
  },
  {
   "cell_type": "markdown",
   "metadata": {},
   "source": [
    "# preprocess data"
   ]
  },
  {
   "cell_type": "code",
   "execution_count": 113,
   "metadata": {},
   "outputs": [],
   "source": [
    "train_no = 400000\n",
    "train_data = np.concatenate((train_x, train_y), axis = 1)\n",
    "np.random.shuffle(train_data)"
   ]
  },
  {
   "cell_type": "code",
   "execution_count": 114,
   "metadata": {},
   "outputs": [
    {
     "name": "stdout",
     "output_type": "stream",
     "text": [
      "[[ 2007.]\n",
      " [ 1984.]\n",
      " [ 1997.]\n",
      " ..., \n",
      " [ 2008.]\n",
      " [ 1994.]\n",
      " [ 1997.]]\n"
     ]
    }
   ],
   "source": [
    "\n",
    "train_music = train_data[:train_no,:90]\n",
    "train_year = train_data[:train_no,90:]\n",
    "test_music = train_data[train_no:,:90]\n",
    "test_year = train_data[train_no:,90:]\n",
    "\n",
    "music_max = np.max(train_music, axis = 0).reshape(1,train_music.shape[1])\n",
    "music_min = train_music.min(axis = 0).reshape(1,train_music.shape[1])\n",
    "year_max = train_year.max()\n",
    "year_min = train_year.min()\n",
    "\n",
    "#train_music = train_music-train_music.max\n",
    "# train_year = \n",
    "# test_music = \n",
    "# test_year = \n",
    "\n",
    "print(train_year)"
   ]
  },
  {
   "cell_type": "code",
   "execution_count": 115,
   "metadata": {},
   "outputs": [
    {
     "name": "stdout",
     "output_type": "stream",
     "text": [
      "(1, 90)\n",
      "[[ 0.71428571]\n",
      " [ 0.59259259]\n",
      " [ 0.66137566]\n",
      " ..., \n",
      " [ 0.71957672]\n",
      " [ 0.64550265]\n",
      " [ 0.66137566]]\n"
     ]
    }
   ],
   "source": [
    "print(music_max.shape)\n",
    "train_music = (train_music - music_min)/(music_max-music_min)\n",
    "test_music = (test_music - music_min)/(music_max-music_min)\n",
    "test_x = (test_x - music_min)/(music_max-music_min)\n",
    "train_year = (train_year-year_min+50)/(year_max-year_min+100)\n",
    "# test_year = (test_year-year_min+50)/(year_max-year_min+100)\n",
    "print(train_year)"
   ]
  },
  {
   "cell_type": "code",
   "execution_count": 124,
   "metadata": {},
   "outputs": [
    {
     "name": "stdout",
     "output_type": "stream",
     "text": [
      "Epoch 1/30\n",
      "400000/400000 [==============================] - 19s 47us/step - loss: 0.0037\n",
      "Epoch 2/30\n",
      "400000/400000 [==============================] - 19s 47us/step - loss: 0.0028\n",
      "Epoch 3/30\n",
      "400000/400000 [==============================] - 19s 47us/step - loss: 0.0027\n",
      "Epoch 4/30\n",
      "400000/400000 [==============================] - 19s 47us/step - loss: 0.0026\n",
      "Epoch 5/30\n",
      "400000/400000 [==============================] - 19s 47us/step - loss: 0.0026\n",
      "Epoch 6/30\n",
      "400000/400000 [==============================] - 19s 47us/step - loss: 0.0026\n",
      "Epoch 7/30\n",
      "400000/400000 [==============================] - 19s 47us/step - loss: 0.0026\n",
      "Epoch 8/30\n",
      "400000/400000 [==============================] - 18s 44us/step - loss: 0.0026\n",
      "Epoch 9/30\n",
      "400000/400000 [==============================] - 18s 45us/step - loss: 0.0025\n",
      "Epoch 10/30\n",
      "400000/400000 [==============================] - 18s 45us/step - loss: 0.0025\n",
      "Epoch 11/30\n",
      "400000/400000 [==============================] - 18s 46us/step - loss: 0.0025\n",
      "Epoch 12/30\n",
      "400000/400000 [==============================] - 18s 46us/step - loss: 0.0025\n",
      "Epoch 13/30\n",
      "400000/400000 [==============================] - 18s 45us/step - loss: 0.0025\n",
      "Epoch 14/30\n",
      "400000/400000 [==============================] - 18s 45us/step - loss: 0.0024\n",
      "Epoch 15/30\n",
      "400000/400000 [==============================] - 18s 44us/step - loss: 0.0024\n",
      "Epoch 16/30\n",
      "400000/400000 [==============================] - 18s 45us/step - loss: 0.0024\n",
      "Epoch 17/30\n",
      "400000/400000 [==============================] - 18s 44us/step - loss: 0.0024\n",
      "Epoch 18/30\n",
      "400000/400000 [==============================] - 19s 47us/step - loss: 0.0024\n",
      "Epoch 19/30\n",
      "400000/400000 [==============================] - 19s 47us/step - loss: 0.0024\n",
      "Epoch 20/30\n",
      "400000/400000 [==============================] - 19s 47us/step - loss: 0.0024\n",
      "Epoch 21/30\n",
      "400000/400000 [==============================] - 19s 47us/step - loss: 0.0024\n",
      "Epoch 22/30\n",
      "400000/400000 [==============================] - 19s 48us/step - loss: 0.0024\n",
      "Epoch 23/30\n",
      "400000/400000 [==============================] - 19s 47us/step - loss: 0.0024\n",
      "Epoch 24/30\n",
      "400000/400000 [==============================] - 19s 48us/step - loss: 0.0024\n",
      "Epoch 25/30\n",
      "400000/400000 [==============================] - 19s 47us/step - loss: 0.0024\n",
      "Epoch 26/30\n",
      "400000/400000 [==============================] - 19s 48us/step - loss: 0.0024\n",
      "Epoch 27/30\n",
      "400000/400000 [==============================] - 19s 47us/step - loss: 0.0024\n",
      "Epoch 28/30\n",
      "400000/400000 [==============================] - 19s 48us/step - loss: 0.0024\n",
      "Epoch 29/30\n",
      "400000/400000 [==============================] - 20s 49us/step - loss: 0.0024\n",
      "Epoch 30/30\n",
      "400000/400000 [==============================] - 19s 49us/step - loss: 0.0024\n"
     ]
    },
    {
     "data": {
      "text/plain": [
       "<keras.callbacks.History at 0x11a8de588>"
      ]
     },
     "execution_count": 124,
     "metadata": {},
     "output_type": "execute_result"
    }
   ],
   "source": [
    "nn = Sequential()\n",
    "nn.add(Dense(500,input_shape = train_music[0].shape,\n",
    "       activation = 'relu'))\n",
    "nn.add(Dense(50,input_shape = train_music[0].shape,\n",
    "       activation = 'relu'))\n",
    "nn.add(Dense(200, activation = 'relu'))\n",
    "nn.add(Dense(1, activation = 'relu'))\n",
    "nn.compile(optimizer='rmsprop', loss='mean_squared_error')\n",
    "# sgd = SGD(lr=0.001, decay=1e-6, momentum=0.9, nesterov=True)\n",
    "# nn.compile(optimizer = sgd,loss = 'mean_squared_error')\n",
    "nn.fit(train_music, train_year, epochs = 30, batch_size = 50)\n",
    "\n"
   ]
  },
  {
   "cell_type": "code",
   "execution_count": 80,
   "metadata": {
    "collapsed": true
   },
   "outputs": [
    {
     "ename": "ValueError",
     "evalue": "Input arrays should have the same number of samples as target arrays. Found 51630 input samples and 63715 target samples.",
     "output_type": "error",
     "traceback": [
      "\u001b[0;31m---------------------------------------------------------------------------\u001b[0m",
      "\u001b[0;31mValueError\u001b[0m                                Traceback (most recent call last)",
      "\u001b[0;32m<ipython-input-80-0e0b0de3c0b5>\u001b[0m in \u001b[0;36m<module>\u001b[0;34m()\u001b[0m\n\u001b[0;32m----> 1\u001b[0;31m \u001b[0mnn\u001b[0m\u001b[0;34m.\u001b[0m\u001b[0mevaluate\u001b[0m\u001b[0;34m(\u001b[0m\u001b[0mx\u001b[0m\u001b[0;34m=\u001b[0m\u001b[0mtest_x\u001b[0m\u001b[0;34m,\u001b[0m \u001b[0my\u001b[0m\u001b[0;34m=\u001b[0m\u001b[0mtest_year\u001b[0m\u001b[0;34m,\u001b[0m \u001b[0mbatch_size\u001b[0m\u001b[0;34m=\u001b[0m\u001b[0;32mNone\u001b[0m\u001b[0;34m,\u001b[0m \u001b[0mverbose\u001b[0m\u001b[0;34m=\u001b[0m\u001b[0;36m1\u001b[0m\u001b[0;34m,\u001b[0m \u001b[0msample_weight\u001b[0m\u001b[0;34m=\u001b[0m\u001b[0;32mNone\u001b[0m\u001b[0;34m)\u001b[0m\u001b[0;34m\u001b[0m\u001b[0m\n\u001b[0m",
      "\u001b[0;32m/usr/local/lib/python3.6/site-packages/keras/models.py\u001b[0m in \u001b[0;36mevaluate\u001b[0;34m(self, x, y, batch_size, verbose, sample_weight)\u001b[0m\n\u001b[1;32m    987\u001b[0m                                    \u001b[0mbatch_size\u001b[0m\u001b[0;34m=\u001b[0m\u001b[0mbatch_size\u001b[0m\u001b[0;34m,\u001b[0m\u001b[0;34m\u001b[0m\u001b[0m\n\u001b[1;32m    988\u001b[0m                                    \u001b[0mverbose\u001b[0m\u001b[0;34m=\u001b[0m\u001b[0mverbose\u001b[0m\u001b[0;34m,\u001b[0m\u001b[0;34m\u001b[0m\u001b[0m\n\u001b[0;32m--> 989\u001b[0;31m                                    sample_weight=sample_weight)\n\u001b[0m\u001b[1;32m    990\u001b[0m \u001b[0;34m\u001b[0m\u001b[0m\n\u001b[1;32m    991\u001b[0m     \u001b[0;32mdef\u001b[0m \u001b[0mpredict\u001b[0m\u001b[0;34m(\u001b[0m\u001b[0mself\u001b[0m\u001b[0;34m,\u001b[0m \u001b[0mx\u001b[0m\u001b[0;34m,\u001b[0m \u001b[0mbatch_size\u001b[0m\u001b[0;34m=\u001b[0m\u001b[0;36m32\u001b[0m\u001b[0;34m,\u001b[0m \u001b[0mverbose\u001b[0m\u001b[0;34m=\u001b[0m\u001b[0;36m0\u001b[0m\u001b[0;34m)\u001b[0m\u001b[0;34m:\u001b[0m\u001b[0;34m\u001b[0m\u001b[0m\n",
      "\u001b[0;32m/usr/local/lib/python3.6/site-packages/keras/engine/training.py\u001b[0m in \u001b[0;36mevaluate\u001b[0;34m(self, x, y, batch_size, verbose, sample_weight, steps)\u001b[0m\n\u001b[1;32m   1721\u001b[0m             \u001b[0msample_weight\u001b[0m\u001b[0;34m=\u001b[0m\u001b[0msample_weight\u001b[0m\u001b[0;34m,\u001b[0m\u001b[0;34m\u001b[0m\u001b[0m\n\u001b[1;32m   1722\u001b[0m             \u001b[0mcheck_batch_axis\u001b[0m\u001b[0;34m=\u001b[0m\u001b[0;32mFalse\u001b[0m\u001b[0;34m,\u001b[0m\u001b[0;34m\u001b[0m\u001b[0m\n\u001b[0;32m-> 1723\u001b[0;31m             batch_size=batch_size)\n\u001b[0m\u001b[1;32m   1724\u001b[0m         \u001b[0;31m# Prepare inputs, delegate logic to `_test_loop`.\u001b[0m\u001b[0;34m\u001b[0m\u001b[0;34m\u001b[0m\u001b[0m\n\u001b[1;32m   1725\u001b[0m         \u001b[0;32mif\u001b[0m \u001b[0mself\u001b[0m\u001b[0;34m.\u001b[0m\u001b[0muses_learning_phase\u001b[0m \u001b[0;32mand\u001b[0m \u001b[0;32mnot\u001b[0m \u001b[0misinstance\u001b[0m\u001b[0;34m(\u001b[0m\u001b[0mK\u001b[0m\u001b[0;34m.\u001b[0m\u001b[0mlearning_phase\u001b[0m\u001b[0;34m(\u001b[0m\u001b[0;34m)\u001b[0m\u001b[0;34m,\u001b[0m \u001b[0mint\u001b[0m\u001b[0;34m)\u001b[0m\u001b[0;34m:\u001b[0m\u001b[0;34m\u001b[0m\u001b[0m\n",
      "\u001b[0;32m/usr/local/lib/python3.6/site-packages/keras/engine/training.py\u001b[0m in \u001b[0;36m_standardize_user_data\u001b[0;34m(self, x, y, sample_weight, class_weight, check_batch_axis, batch_size)\u001b[0m\n\u001b[1;32m   1424\u001b[0m                           \u001b[0;32mfor\u001b[0m \u001b[0;34m(\u001b[0m\u001b[0mref\u001b[0m\u001b[0;34m,\u001b[0m \u001b[0msw\u001b[0m\u001b[0;34m,\u001b[0m \u001b[0mcw\u001b[0m\u001b[0;34m,\u001b[0m \u001b[0mmode\u001b[0m\u001b[0;34m)\u001b[0m\u001b[0;34m\u001b[0m\u001b[0m\n\u001b[1;32m   1425\u001b[0m                           in zip(y, sample_weights, class_weights, self._feed_sample_weight_modes)]\n\u001b[0;32m-> 1426\u001b[0;31m         \u001b[0m_check_array_lengths\u001b[0m\u001b[0;34m(\u001b[0m\u001b[0mx\u001b[0m\u001b[0;34m,\u001b[0m \u001b[0my\u001b[0m\u001b[0;34m,\u001b[0m \u001b[0msample_weights\u001b[0m\u001b[0;34m)\u001b[0m\u001b[0;34m\u001b[0m\u001b[0m\n\u001b[0m\u001b[1;32m   1427\u001b[0m         _check_loss_and_target_compatibility(y,\n\u001b[1;32m   1428\u001b[0m                                              \u001b[0mself\u001b[0m\u001b[0;34m.\u001b[0m\u001b[0m_feed_loss_fns\u001b[0m\u001b[0;34m,\u001b[0m\u001b[0;34m\u001b[0m\u001b[0m\n",
      "\u001b[0;32m/usr/local/lib/python3.6/site-packages/keras/engine/training.py\u001b[0m in \u001b[0;36m_check_array_lengths\u001b[0;34m(inputs, targets, weights)\u001b[0m\n\u001b[1;32m    248\u001b[0m                          \u001b[0;34m'the same number of samples as target arrays. '\u001b[0m\u001b[0;34m\u001b[0m\u001b[0m\n\u001b[1;32m    249\u001b[0m                          \u001b[0;34m'Found '\u001b[0m \u001b[0;34m+\u001b[0m \u001b[0mstr\u001b[0m\u001b[0;34m(\u001b[0m\u001b[0mlist\u001b[0m\u001b[0;34m(\u001b[0m\u001b[0mset_x\u001b[0m\u001b[0;34m)\u001b[0m\u001b[0;34m[\u001b[0m\u001b[0;36m0\u001b[0m\u001b[0;34m]\u001b[0m\u001b[0;34m)\u001b[0m \u001b[0;34m+\u001b[0m \u001b[0;34m' input samples '\u001b[0m\u001b[0;34m\u001b[0m\u001b[0m\n\u001b[0;32m--> 250\u001b[0;31m                          'and ' + str(list(set_y)[0]) + ' target samples.')\n\u001b[0m\u001b[1;32m    251\u001b[0m     \u001b[0;32mif\u001b[0m \u001b[0mlen\u001b[0m\u001b[0;34m(\u001b[0m\u001b[0mset_w\u001b[0m\u001b[0;34m)\u001b[0m \u001b[0;34m>\u001b[0m \u001b[0;36m1\u001b[0m\u001b[0;34m:\u001b[0m\u001b[0;34m\u001b[0m\u001b[0m\n\u001b[1;32m    252\u001b[0m         raise ValueError('All sample_weight arrays should have '\n",
      "\u001b[0;31mValueError\u001b[0m: Input arrays should have the same number of samples as target arrays. Found 51630 input samples and 63715 target samples."
     ]
    }
   ],
   "source": [
    "nn.evaluate(x=test_music, y=test_year, batch_size=None, verbose=1, sample_weight=None)"
   ]
  },
  {
   "cell_type": "code",
   "execution_count": 138,
   "metadata": {},
   "outputs": [],
   "source": [
    "pred = (nn.predict(test_x)*(year_max-year_min+100))+year_min-50"
   ]
  },
  {
   "cell_type": "code",
   "execution_count": 139,
   "metadata": {},
   "outputs": [
    {
     "name": "stdout",
     "output_type": "stream",
     "text": [
      "[[ 1993.]\n",
      " [ 2005.]\n",
      " [ 2003.]\n",
      " ..., \n",
      " [ 2004.]\n",
      " [ 2004.]\n",
      " [ 2003.]]\n",
      "(51630, 1) (51629,)\n",
      "(51630, 2)\n",
      "[[  1.00000000e+00   1.99300000e+03]\n",
      " [  2.00000000e+00   2.00500000e+03]\n",
      " [  3.00000000e+00   2.00300000e+03]\n",
      " ..., \n",
      " [  5.16280000e+04   2.00400000e+03]\n",
      " [  5.16290000e+04   2.00400000e+03]\n",
      " [  5.16300000e+04   2.00300000e+03]]\n",
      "[[ 2009.]\n",
      " [ 1997.]\n",
      " [ 2005.]\n",
      " ..., \n",
      " [ 2004.]\n",
      " [ 1981.]\n",
      " [ 2007.]]\n"
     ]
    }
   ],
   "source": [
    "pred2 = pred.round()\n",
    "print(pred2)\n",
    "no = np.arange(1,pred2.shape[0]+1,1).reshape(pred2.shape[0],1)\n",
    "print(pred2.shape,np.arange(1,pred2.shape[0],1).shape)\n",
    "pred2 = np.concatenate((no, pred2),axis = 1)\n",
    "print(pred2.shape)\n",
    "np.savetxt(\"pred1.csv\", pred2, fmt='%i', delimiter = \",\")\n",
    "print(pred2)\n",
    "print(test_year)"
   ]
  },
  {
   "cell_type": "code",
   "execution_count": 104,
   "metadata": {},
   "outputs": [
    {
     "name": "stdout",
     "output_type": "stream",
     "text": [
      "6.41031154359\n"
     ]
    }
   ],
   "source": [
    "print(np.average(np.abs(pred.round()-test_year)))"
   ]
  },
  {
   "cell_type": "code",
   "execution_count": 84,
   "metadata": {},
   "outputs": [
    {
     "name": "stdout",
     "output_type": "stream",
     "text": [
      "[  896.79382  1951.73956  3049.05491 ...,  2766.17086  1916.92536\n",
      "   513.89883]\n",
      "2011.0\n",
      "[-402.58749 -584.83798 -729.85652 ..., -607.39863 -597.22494 -236.20379]\n",
      "1922.0\n"
     ]
    }
   ],
   "source": [
    "music_max = train_music.max(axis = 1)\n",
    "music_min = train_music.min(axis = 1)\n",
    "year_max = train_year.max()\n",
    "year_min = train_year.min()\n",
    "print(music_max)\n",
    "print(year_max)\n",
    "print(music_min)\n",
    "print(year_min)"
   ]
  },
  {
   "cell_type": "code",
   "execution_count": 136,
   "metadata": {},
   "outputs": [
    {
     "name": "stdout",
     "output_type": "stream",
     "text": [
      "[[ 1.  1.  1.  1.  1.]\n",
      " [ 1.  1.  1.  1.  1.]\n",
      " [ 1.  1.  1.  1.  1.]\n",
      " [ 1.  1.  1.  1.  1.]\n",
      " [ 1.  1.  1.  1.  1.]]\n"
     ]
    }
   ],
   "source": [
    "a = np.ones((5,5))\n",
    "print(a)"
   ]
  },
  {
   "cell_type": "code",
   "execution_count": 137,
   "metadata": {},
   "outputs": [
    {
     "name": "stdout",
     "output_type": "stream",
     "text": [
      "[  5.00000000e+00   5.65333918e-49   0.00000000e+00   0.00000000e+00\n",
      "   1.73014109e-64]\n",
      "(array([  5.00000000e+00,   5.65333918e-49,   0.00000000e+00,\n",
      "         0.00000000e+00,   1.73014109e-64]), array([[ -4.47213595e-01,   1.13586253e-16,   1.13586253e-16,\n",
      "          6.83745817e-32,  -1.11062157e-16],\n",
      "       [ -4.47213595e-01,   8.66025404e-01,   8.66025404e-01,\n",
      "          5.21314185e-16,  -8.46780726e-01],\n",
      "       [ -4.47213595e-01,  -2.88675135e-01,  -2.88675135e-01,\n",
      "         -6.24089760e-17,   1.11088069e-01],\n",
      "       [ -4.47213595e-01,  -2.88675135e-01,  -2.88675135e-01,\n",
      "         -7.07106781e-01,   3.67846328e-01],\n",
      "       [ -4.47213595e-01,  -2.88675135e-01,  -2.88675135e-01,\n",
      "          7.07106781e-01,   3.67846328e-01]]))\n"
     ]
    }
   ],
   "source": [
    "print(np.linalg.eigvals(a))\n",
    "print(np.linalg.eig(a))"
   ]
  },
  {
   "cell_type": "code",
   "execution_count": null,
   "metadata": {},
   "outputs": [],
   "source": []
  }
 ],
 "metadata": {
  "kernelspec": {
   "display_name": "Python 3",
   "language": "python",
   "name": "python3"
  },
  "language_info": {
   "codemirror_mode": {
    "name": "ipython",
    "version": 3
   },
   "file_extension": ".py",
   "mimetype": "text/x-python",
   "name": "python",
   "nbconvert_exporter": "python",
   "pygments_lexer": "ipython3",
   "version": "3.6.0"
  }
 },
 "nbformat": 4,
 "nbformat_minor": 2
}
